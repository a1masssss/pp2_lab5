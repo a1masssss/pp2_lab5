{
 "cells": [
  {
   "cell_type": "code",
   "execution_count": 1,
   "metadata": {},
   "outputs": [
    {
     "name": "stdout",
     "output_type": "stream",
     "text": [
      "True\n",
      "True\n",
      "True\n",
      "False\n",
      "False\n",
      "False\n"
     ]
    }
   ],
   "source": [
    "import re\n",
    "def match_string(s):\n",
    "    pattern = r'^ab*$'\n",
    "    if re.fullmatch(pattern, s):\n",
    "        return True\n",
    "    return False\n",
    "\n",
    "print(match_string(\"a\"))       \n",
    "print(match_string(\"ab\"))      \n",
    "print(match_string(\"abb\"))     \n",
    "print(match_string(\"ac\"))      \n",
    "print(match_string(\"b\"))       \n",
    "print(match_string(\"aabb\"))    "
   ]
  },
  {
   "cell_type": "code",
   "execution_count": 14,
   "metadata": {},
   "outputs": [
    {
     "name": "stdout",
     "output_type": "stream",
     "text": [
      "False\n",
      "False\n",
      "True\n",
      "True\n"
     ]
    }
   ],
   "source": [
    "def func(s):\n",
    "    return re.fullmatch(r'^ab{2,3}$', s) is not None\n",
    "\n",
    "print(func(\"a\"))\n",
    "print(func(\"ab\"))\n",
    "print(func(\"abb\"))\n",
    "print(func(\"abbb\"))"
   ]
  },
  {
   "cell_type": "code",
   "execution_count": 20,
   "metadata": {},
   "outputs": [
    {
     "name": "stdout",
     "output_type": "stream",
     "text": [
      "False\n",
      "True\n"
     ]
    }
   ],
   "source": [
    "def func(s):\n",
    "    return re.fullmatch(r'^[a-z]+_[a-z]+$', s) is not None\n",
    "print(func(\"a_\"))\n",
    "print(func(\"ab_a\"))"
   ]
  },
  {
   "cell_type": "code",
   "execution_count": 29,
   "metadata": {},
   "outputs": [
    {
     "name": "stdout",
     "output_type": "stream",
     "text": [
      "True\n",
      "True\n",
      "False\n"
     ]
    }
   ],
   "source": [
    "def func(s):\n",
    "    pattern = r'^[A-Z][a-z]*$'\n",
    "    return re.fullmatch(pattern, s) is not None\n",
    "\n",
    "print(func(\"A\"))\n",
    "print(func(\"Ab\"))\n",
    "print(func(\"a\"))"
   ]
  },
  {
   "cell_type": "code",
   "execution_count": 31,
   "metadata": {},
   "outputs": [
    {
     "name": "stdout",
     "output_type": "stream",
     "text": [
      "False\n",
      "True\n"
     ]
    }
   ],
   "source": [
    "def func(s):\n",
    "    return re.fullmatch(r'^a.*b$', s) is not None    \n",
    "\n",
    "print(func(\"a\"))\n",
    "print(func(\"ab\"))\n"
   ]
  },
  {
   "cell_type": "code",
   "execution_count": 32,
   "metadata": {},
   "outputs": [
    {
     "name": "stdout",
     "output_type": "stream",
     "text": [
      "a:b:c:d\n"
     ]
    }
   ],
   "source": [
    "def func(s):\n",
    "    pattern = r'[ ,.]'\n",
    "    return re.sub(pattern, ':', s)\n",
    "print(func(\"a b,c.d\"))"
   ]
  },
  {
   "cell_type": "code",
   "execution_count": 4,
   "metadata": {},
   "outputs": [
    {
     "name": "stdout",
     "output_type": "stream",
     "text": [
      "snakeCase\n"
     ]
    }
   ],
   "source": [
    "def func(s):\n",
    "    components  =s.split('_')\n",
    "    return components[0] + ''.join(x.capitalize() for x in components[1:])\n",
    "\n",
    "print(func(\"snake_case\"))\n"
   ]
  }
 ],
 "metadata": {
  "kernelspec": {
   "display_name": "Python 3",
   "language": "python",
   "name": "python3"
  },
  "language_info": {
   "codemirror_mode": {
    "name": "ipython",
    "version": 3
   },
   "file_extension": ".py",
   "mimetype": "text/x-python",
   "name": "python",
   "nbconvert_exporter": "python",
   "pygments_lexer": "ipython3",
   "version": "3.12.1"
  }
 },
 "nbformat": 4,
 "nbformat_minor": 2
}
